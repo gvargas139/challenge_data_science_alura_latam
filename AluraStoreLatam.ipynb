{
  "nbformat": 4,
  "nbformat_minor": 0,
  "metadata": {
    "colab": {
      "provenance": [],
      "include_colab_link": true
    },
    "kernelspec": {
      "name": "python3",
      "display_name": "Python 3"
    },
    "language_info": {
      "name": "python"
    }
  },
  "cells": [
    {
      "cell_type": "markdown",
      "metadata": {
        "id": "view-in-github",
        "colab_type": "text"
      },
      "source": [
        "<a href=\"https://colab.research.google.com/github/gvargas139/challenge_data_science_alura_latam/blob/main/AluraStoreLatam.ipynb\" target=\"_parent\"><img src=\"https://colab.research.google.com/assets/colab-badge.svg\" alt=\"Open In Colab\"/></a>"
      ]
    },
    {
      "cell_type": "markdown",
      "source": [
        "### Importación de datos\n",
        "\n"
      ],
      "metadata": {
        "id": "RhEdWd9YUR6H"
      }
    },
    {
      "cell_type": "code",
      "execution_count": 10,
      "metadata": {
        "colab": {
          "base_uri": "https://localhost:8080/"
        },
        "id": "T3EvaeQ_INIL",
        "outputId": "df882a1d-b176-4496-b11b-cba49c489194"
      },
      "outputs": [
        {
          "output_type": "stream",
          "name": "stdout",
          "text": [
            "<class 'pandas.core.frame.DataFrame'>\n",
            "RangeIndex: 2359 entries, 0 to 2358\n",
            "Data columns (total 12 columns):\n",
            " #   Column                  Non-Null Count  Dtype  \n",
            "---  ------                  --------------  -----  \n",
            " 0   Producto                2359 non-null   object \n",
            " 1   Categoría del Producto  2359 non-null   object \n",
            " 2   Precio                  2359 non-null   float64\n",
            " 3   Costo de envío          2359 non-null   float64\n",
            " 4   Fecha de Compra         2359 non-null   object \n",
            " 5   Vendedor                2359 non-null   object \n",
            " 6   Lugar de Compra         2359 non-null   object \n",
            " 7   Calificación            2359 non-null   int64  \n",
            " 8   Método de pago          2359 non-null   object \n",
            " 9   Cantidad de cuotas      2359 non-null   int64  \n",
            " 10  lat                     2359 non-null   float64\n",
            " 11  lon                     2359 non-null   float64\n",
            "dtypes: float64(4), int64(2), object(6)\n",
            "memory usage: 221.3+ KB\n"
          ]
        }
      ],
      "source": [
        "import pandas as pd\n",
        "\n",
        "url = \"https://raw.githubusercontent.com/alura-es-cursos/challenge1-data-science-latam/refs/heads/main/base-de-datos-challenge1-latam/tienda_1%20.csv\"\n",
        "url2 = \"https://raw.githubusercontent.com/alura-es-cursos/challenge1-data-science-latam/refs/heads/main/base-de-datos-challenge1-latam/tienda_2.csv\"\n",
        "url3 = \"https://raw.githubusercontent.com/alura-es-cursos/challenge1-data-science-latam/refs/heads/main/base-de-datos-challenge1-latam/tienda_3.csv\"\n",
        "url4 = \"https://raw.githubusercontent.com/alura-es-cursos/challenge1-data-science-latam/refs/heads/main/base-de-datos-challenge1-latam/tienda_4.csv\"\n",
        "\n",
        "tienda = pd.read_csv(url)\n",
        "tienda2 = pd.read_csv(url2)\n",
        "tienda3 = pd.read_csv(url3)\n",
        "tienda4 = pd.read_csv(url4)\n",
        "\n",
        "tienda.head()\n",
        "tienda.info()"
      ]
    },
    {
      "cell_type": "markdown",
      "source": [
        "#1. Análisis de facturación\n",
        "\n"
      ],
      "metadata": {
        "id": "X62IW3KFUIYm"
      }
    },
    {
      "cell_type": "code",
      "source": [
        "#En este primer análisis, debes calcular el ingreso total de cada tienda. Sumando los valores de la columna Precio de cada conjunto de datos de la tienda para estimar los ingresos.\n",
        "import pandas as pd\n",
        "import matplotlib.pyplot as plt\n",
        "\n",
        "ingreso_tienda1 = tienda['Precio'].sum()\n",
        "ingreso_tienda2 = tienda2['Precio'].sum()\n",
        "ingreso_tienda3 = tienda3['Precio'].sum()\n",
        "ingreso_tienda4 = tienda4['Precio'].sum()\n",
        "\n",
        "ingreso_tienda1_formateado = \"{:,.0f}\".format(ingreso_tienda1)\n",
        "ingreso_tienda2_formateado = \"{:,.0f}\".format(ingreso_tienda2)\n",
        "ingreso_tienda3_formateado = \"{:,.0f}\".format(ingreso_tienda3)\n",
        "ingreso_tienda4_formateado = \"{:,.0f}\".format(ingreso_tienda4)\n",
        "\n",
        "lista_ingresos = [(ingreso_tienda1_formateado), (ingreso_tienda2_formateado), (ingreso_tienda3_formateado), (ingreso_tienda4_formateado)]\n",
        "\n",
        "print(lista_ingresos)\n"
      ],
      "metadata": {
        "id": "xykobSftV64I",
        "colab": {
          "base_uri": "https://localhost:8080/"
        },
        "outputId": "f1c947c4-7fed-4797-fed0-47a779e33af7"
      },
      "execution_count": 105,
      "outputs": [
        {
          "output_type": "stream",
          "name": "stdout",
          "text": [
            "['1,150,880,400', '1,116,343,500', '1,098,019,600', '1,038,375,700']\n"
          ]
        }
      ]
    },
    {
      "cell_type": "code",
      "source": [
        "# El ingreso mas alto esta presente en la tienda 1 y el mas bajo en la tienda 4"
      ],
      "metadata": {
        "id": "KDyr8E71V3m-"
      },
      "execution_count": null,
      "outputs": []
    },
    {
      "cell_type": "markdown",
      "source": [
        "# 2. Ventas por categoría"
      ],
      "metadata": {
        "id": "2V_vcAPzWZmR"
      }
    },
    {
      "cell_type": "code",
      "source": [
        "\"\"\"En este debes calcular la cantidad de productos vendidos por categoría en cada tienda.\n",
        "La idea es agrupar los datos por categoría y contar el número de ventas de cada tipo, mostrando las categorías más populares de cada tienda.\"\"\"\n",
        "\n",
        "import pandas as pd\n",
        "\n",
        "tienda  = pd.read_csv(url)\n",
        "tienda2 = pd.read_csv(url2)\n",
        "tienda3 = pd.read_csv(url3)\n",
        "tienda4 = pd.read_csv(url4)\n",
        "\n",
        "tienda_categoria = tienda.groupby('Categoría del Producto')['Categoría del Producto'].count()\n",
        "tienda2_categoria = tienda2.groupby('Categoría del Producto')['Categoría del Producto'].count()\n",
        "tienda3_categoria = tienda3.groupby('Categoría del Producto')['Categoría del Producto'].count()\n",
        "tienda4_categoria = tienda4.groupby('Categoría del Producto')['Categoría del Producto'].count()\n",
        "\n",
        "# Crear una lista de tuplas para visualizar mas facil, considerando que cada 8 elementos es una nueva lista\n",
        "lista_categorias = list(zip(tienda_categoria.index, tienda_categoria.values, tienda2_categoria.values, tienda3_categoria.values, tienda4_categoria.values))\n",
        "\n",
        "# Crear un DataFrame a partir de la lista de tuplas\n",
        "df = pd.DataFrame(lista_categorias, columns=['Categoría', 'Tienda 1', 'Tienda 2', 'Tienda 3', 'Tienda 4'])\n",
        "\n",
        "# Ordenar el DF para visualizar rapidamente\n",
        "df_ordenado = df.sort_values(by='Tienda 1', ascending=False)\n",
        "print(df_ordenado)"
      ],
      "metadata": {
        "id": "A34YupIuYhfF",
        "colab": {
          "base_uri": "https://localhost:8080/"
        },
        "outputId": "ba625c47-9b94-4f77-9128-62be800744cd"
      },
      "execution_count": 69,
      "outputs": [
        {
          "output_type": "stream",
          "name": "stdout",
          "text": [
            "                 Categoría  Tienda 1  Tienda 2  Tienda 3  Tienda 4\n",
            "7                  Muebles       465       442       499       480\n",
            "3             Electrónicos       448       422       451       451\n",
            "5                 Juguetes       324       313       315       338\n",
            "2        Electrodomésticos       312       305       278       254\n",
            "1     Deportes y diversión       284       275       277       277\n",
            "4   Instrumentos musicales       182       224       177       170\n",
            "6                   Libros       173       197       185       187\n",
            "0  Artículos para el hogar       171       181       177       201\n"
          ]
        }
      ]
    },
    {
      "cell_type": "code",
      "source": [
        "# Las mayores ventas se dieron en la categoria muebles, con las mayores ventas en la tienda 3 y las menores en la tienda 2."
      ],
      "metadata": {
        "id": "yZR6cOjXYSk1"
      },
      "execution_count": 31,
      "outputs": []
    },
    {
      "cell_type": "markdown",
      "source": [
        "# 3. Calificación promedio de la tienda\n"
      ],
      "metadata": {
        "id": "Rq6tU_xSY3jk"
      }
    },
    {
      "cell_type": "code",
      "source": [
        "#En este paso, debes calcular las calificaciones promedio de los clientes para cada tienda. El objetivo es conocer la satisfacción del cliente con los productos vendidos.\n",
        "\n",
        "import pandas as pd\n",
        "\n",
        "tienda  = pd.read_csv(url)\n",
        "tienda2 = pd.read_csv(url2)\n",
        "tienda3 = pd.read_csv(url3)\n",
        "tienda4 = pd.read_csv(url4)\n",
        "\n",
        "calificacion_tienda = tienda['Calificación'].mean()\n",
        "calificacion_tienda2 = tienda2['Calificación'].mean()\n",
        "calificacion_tienda3 = tienda3['Calificación'].mean()\n",
        "calificacion_tienda4 = tienda4['Calificación'].mean()\n",
        "\n",
        "# crear una lista de tuplas del valor promedio y su tienda asociada\n",
        "\n",
        "calificaciones = [('Tienda 1', calificacion_tienda), ('Tienda 2', calificacion_tienda2), ('Tienda 3', calificacion_tienda3), ('Tienda 4', calificacion_tienda4)]\n",
        "\n",
        "# Crear un DataFrame a partir de la lista de tuplas\n",
        "df = pd.DataFrame(calificaciones, columns=['Tienda', 'Calificación Promedio'])\n",
        "\n",
        "# Ordenar el DF para visualizar rapidamente\n",
        "df_ordenado = df.sort_values(by='Calificación Promedio', ascending=False)\n",
        "\n",
        "print(df_ordenado)\n",
        "\n",
        "df_ordenado.plot(x='Tienda', y='Calificación Promedio', kind= 'bar')\n",
        "plt.title('Calificaciones Promedio por Tienda')\n",
        "plt.xlabel('Tienda')\n",
        "plt.ylabel('Calificación Promedio')\n",
        "plt.xticks(rotation=0)\n",
        "plt.ylim(0, 5)\n",
        "plt.yticks([0, 1, 2, 3.5, 4, 5])\n",
        "plt.show()"
      ],
      "metadata": {
        "id": "bh3jjjJwY5MU",
        "colab": {
          "base_uri": "https://localhost:8080/",
          "height": 559
        },
        "outputId": "0a5f357c-713c-4d0e-d454-ee498be8bba0"
      },
      "execution_count": 111,
      "outputs": [
        {
          "output_type": "stream",
          "name": "stdout",
          "text": [
            "     Tienda  Calificación Promedio\n",
            "2  Tienda 3               4.048326\n",
            "1  Tienda 2               4.037304\n",
            "3  Tienda 4               3.995759\n",
            "0  Tienda 1               3.976685\n"
          ]
        },
        {
          "output_type": "display_data",
          "data": {
            "text/plain": [
              "<Figure size 640x480 with 1 Axes>"
            ],
            "image/png": "[encoded data removed]"
          },
          "metadata": {}
        }
      ]
    },
    {
      "cell_type": "code",
      "source": [
        "# En promedio las calificaciones mas altas se dieron en la tienda 3 y las mas baja en la tienda 1"
      ],
      "metadata": {
        "id": "I0KkjPoTY88F"
      },
      "execution_count": null,
      "outputs": []
    },
    {
      "cell_type": "markdown",
      "source": [
        "# 4. Productos más y menos vendidos"
      ],
      "metadata": {
        "id": "DmNp1KPBZCm-"
      }
    },
    {
      "cell_type": "code",
      "source": [
        "\"\"\"En este paso, debes identificar qué productos fueron los más vendidos y los menos vendidos en cada tienda.\n",
        "Visualiza los resultados para que quede claro qué productos destacaron en ventas en cada tienda.\"\"\"\n",
        "\n",
        "import pandas as pd\n",
        "import matplotlib.pyplot as plt\n",
        "\n",
        "tienda  = pd.read_csv(url)\n",
        "tienda2 = pd.read_csv(url2)\n",
        "tienda3 = pd.read_csv(url3)\n",
        "tienda4 = pd.read_csv(url4)\n",
        "\n",
        "tienda_mas_vendido = tienda.groupby('Producto')['Producto'].count()\n",
        "tienda_mas_vendido2 = tienda2.groupby('Producto')['Producto'].count()\n",
        "tienda_mas_vendido3 = tienda3.groupby('Producto')['Producto'].count()\n",
        "tienda_mas_vendido4 = tienda4.groupby('Producto')['Producto'].count()\n",
        "\n",
        "# Sortear cada lista para obtener los valores mas altos\n",
        "\n",
        "tienda_mas_vendido = tienda_mas_vendido.sort_values(ascending=False)\n",
        "tienda_mas_vendido2 = tienda_mas_vendido2.sort_values(ascending=False)\n",
        "tienda_mas_vendido3 = tienda_mas_vendido3.sort_values(ascending=False)\n",
        "tienda_mas_vendido4 = tienda_mas_vendido4.sort_values(ascending=False)\n",
        "\n",
        "#tomar solo los primeros 3 valores para cortar la lista\n",
        "\n",
        "tienda_mas_vendido = tienda_mas_vendido.head(3)\n",
        "tienda_mas_vendido2 = tienda_mas_vendido2.head(3)\n",
        "tienda_mas_vendido3 = tienda_mas_vendido3.head(3)\n",
        "tienda_mas_vendido4 = tienda_mas_vendido4.head(3)\n",
        "\n",
        "tienda_menos_vendido = tienda.groupby('Producto')['Producto'].count()\n",
        "tienda_menos_vendido2 = tienda2.groupby('Producto')['Producto'].count()\n",
        "tienda_menos_vendido3 = tienda3.groupby('Producto')['Producto'].count()\n",
        "tienda_menos_vendido4 = tienda4.groupby('Producto')['Producto'].count()\n",
        "\n",
        "tienda_menos_vendido = tienda_menos_vendido.sort_values(ascending=True)\n",
        "tienda_menos_vendido2 = tienda_menos_vendido2.sort_values(ascending=True)\n",
        "tienda_menos_vendido3 = tienda_menos_vendido3.sort_values(ascending=True)\n",
        "tienda_menos_vendido4 = tienda_menos_vendido4.sort_values(ascending=True)\n",
        "\n",
        "tienda_menos_vendido = tienda_menos_vendido.head(3)\n",
        "tienda_menos_vendido2 = tienda_menos_vendido2.head(3)\n",
        "tienda_menos_vendido3 = tienda_menos_vendido3.head(3)\n",
        "tienda_menos_vendido4 = tienda_menos_vendido4.head(3)\n",
        "\n",
        "#crear una lista de listas que contenga los productos mas vendidos y menos vendidos separados por tienda\n",
        "\n",
        "productos_mas_vendidos = [list(tienda_mas_vendido.index), list(tienda_mas_vendido2.index), list(tienda_mas_vendido3.index), list(tienda_mas_vendido4.index)]\n",
        "productos_menos_vendidos = [list(tienda_menos_vendido.index), list(tienda_menos_vendido2.index), list(tienda_menos_vendido3.index), list(tienda_menos_vendido4.index)]\n",
        "\n",
        "cantidades_mas_vendidos = [list(tienda_mas_vendido.values), list(tienda_mas_vendido2.values), list(tienda_mas_vendido3.values), list(tienda_mas_vendido4.values)]\n",
        "cantidades_menos_vendidos = [list(tienda_menos_vendido.values), list(tienda_menos_vendido2.values), list(tienda_menos_vendido3.values), list(tienda_menos_vendido4.values)]\n",
        "\n",
        "#crear data frame para mas vendidos y otro para menos vendidos\n",
        "\n",
        "df_mas_vendidos = pd.DataFrame({'Producto': productos_mas_vendidos, 'Cantidad': cantidades_mas_vendidos})\n",
        "df_menos_vendidos = pd.DataFrame({'Producto': productos_menos_vendidos, 'Cantidad': cantidades_menos_vendidos})\n",
        "\n",
        "#añadir la columna correspondiente a cada tienda\n",
        "\n",
        "df_mas_vendidos['Tienda'] = ['Tienda 1', 'Tienda 2', 'Tienda 3', 'Tienda 4']\n",
        "df_menos_vendidos['Tienda'] = ['Tienda 1', 'Tienda 2', 'Tienda 3', 'Tienda 4']\n",
        "\n",
        "#cambiar el orden de las columnas\n",
        "\n",
        "df_mas_vendidos = df_mas_vendidos[['Tienda', 'Producto', 'Cantidad']]\n",
        "df_menos_vendidos = df_menos_vendidos[['Tienda', 'Producto', 'Cantidad']]\n",
        "\n",
        "print(df_mas_vendidos)\n",
        "print(df_menos_vendidos)\n"
      ],
      "metadata": {
        "id": "qoyjqijQZHfF",
        "colab": {
          "base_uri": "https://localhost:8080/",
          "height": 634
        },
        "outputId": "eee742fa-e222-473e-a4b7-3f00f6d60d8c"
      },
      "execution_count": 113,
      "outputs": [
        {
          "output_type": "stream",
          "name": "stdout",
          "text": [
            "     Tienda                                          Producto      Cantidad\n",
            "0  Tienda 1              [Armario, TV LED UHD 4K, Microondas]  [60, 60, 60]\n",
            "1  Tienda 2  [Iniciando en programación, Microondas, Batería]  [65, 62, 61]\n",
            "2  Tienda 3       [Kit de bancas, Mesa de comedor, Cama king]  [57, 56, 56]\n",
            "3  Tienda 4                 [Cama box, Cubertería, Cama king]  [62, 59, 56]\n"
          ]
        },
        {
          "output_type": "error",
          "ename": "KeyError",
          "evalue": "'Producto'",
          "traceback": [
            "\u001b[0;31m---------------------------------------------------------------------------\u001b[0m",
            "\u001b[0;31mKeyError\u001b[0m                                  Traceback (most recent call last)",
            "\u001b[0;32m/usr/local/lib/python3.11/dist-packages/pandas/core/indexes/base.py\u001b[0m in \u001b[0;36mget_loc\u001b[0;34m(self, key)\u001b[0m\n\u001b[1;32m   3804\u001b[0m         \u001b[0;32mtry\u001b[0m\u001b[0;34m:\u001b[0m\u001b[0;34m\u001b[0m\u001b[0;34m\u001b[0m\u001b[0m\n\u001b[0;32m-> 3805\u001b[0;31m             \u001b[0;32mreturn\u001b[0m \u001b[0mself\u001b[0m\u001b[0;34m.\u001b[0m\u001b[0m_engine\u001b[0m\u001b[0;34m.\u001b[0m\u001b[0mget_loc\u001b[0m\u001b[0;34m(\u001b[0m\u001b[0mcasted_key\u001b[0m\u001b[0;34m)\u001b[0m\u001b[0;34m\u001b[0m\u001b[0;34m\u001b[0m\u001b[0m\n\u001b[0m\u001b[1;32m   3806\u001b[0m         \u001b[0;32mexcept\u001b[0m \u001b[0mKeyError\u001b[0m \u001b[0;32mas\u001b[0m \u001b[0merr\u001b[0m\u001b[0;34m:\u001b[0m\u001b[0;34m\u001b[0m\u001b[0;34m\u001b[0m\u001b[0m\n",
            "\u001b[0;32mindex.pyx\u001b[0m in \u001b[0;36mpandas._libs.index.IndexEngine.get_loc\u001b[0;34m()\u001b[0m\n",
            "\u001b[0;32mindex.pyx\u001b[0m in \u001b[0;36mpandas._libs.index.IndexEngine.get_loc\u001b[0;34m()\u001b[0m\n",
            "\u001b[0;32mpandas/_libs/hashtable_class_helper.pxi\u001b[0m in \u001b[0;36mpandas._libs.hashtable.PyObjectHashTable.get_item\u001b[0;34m()\u001b[0m\n",
            "\u001b[0;32mpandas/_libs/hashtable_class_helper.pxi\u001b[0m in \u001b[0;36mpandas._libs.hashtable.PyObjectHashTable.get_item\u001b[0;34m()\u001b[0m\n",
            "\u001b[0;31mKeyError\u001b[0m: 'Producto'",
            "\nThe above exception was the direct cause of the following exception:\n",
            "\u001b[0;31mKeyError\u001b[0m                                  Traceback (most recent call last)",
            "\u001b[0;32m<ipython-input-113-a6a2664cccd3>\u001b[0m in \u001b[0;36m<cell line: 0>\u001b[0;34m()\u001b[0m\n\u001b[1;32m     68\u001b[0m \u001b[0;34m\u001b[0m\u001b[0m\n\u001b[1;32m     69\u001b[0m \u001b[0mprint\u001b[0m\u001b[0;34m(\u001b[0m\u001b[0mdf_mas_vendidos\u001b[0m\u001b[0;34m)\u001b[0m\u001b[0;34m\u001b[0m\u001b[0;34m\u001b[0m\u001b[0m\n\u001b[0;32m---> 70\u001b[0;31m \u001b[0mdf\u001b[0m\u001b[0;34m.\u001b[0m\u001b[0mplot\u001b[0m\u001b[0;34m(\u001b[0m\u001b[0mx\u001b[0m\u001b[0;34m=\u001b[0m\u001b[0;34m'Producto'\u001b[0m\u001b[0;34m,\u001b[0m \u001b[0my\u001b[0m\u001b[0;34m=\u001b[0m\u001b[0;34m'Cantidad'\u001b[0m\u001b[0;34m,\u001b[0m \u001b[0mkind\u001b[0m\u001b[0;34m=\u001b[0m \u001b[0;34m'bar'\u001b[0m \u001b[0;34m)\u001b[0m\u001b[0;34m\u001b[0m\u001b[0;34m\u001b[0m\u001b[0m\n\u001b[0m\u001b[1;32m     71\u001b[0m \u001b[0mplt\u001b[0m\u001b[0;34m.\u001b[0m\u001b[0mshow\u001b[0m\u001b[0;34m(\u001b[0m\u001b[0;34m)\u001b[0m\u001b[0;34m\u001b[0m\u001b[0;34m\u001b[0m\u001b[0m\n\u001b[1;32m     72\u001b[0m \u001b[0mprint\u001b[0m\u001b[0;34m(\u001b[0m\u001b[0mdf_menos_vendidos\u001b[0m\u001b[0;34m)\u001b[0m\u001b[0;34m\u001b[0m\u001b[0;34m\u001b[0m\u001b[0m\n",
            "\u001b[0;32m/usr/local/lib/python3.11/dist-packages/pandas/plotting/_core.py\u001b[0m in \u001b[0;36m__call__\u001b[0;34m(self, *args, **kwargs)\u001b[0m\n\u001b[1;32m    993\u001b[0m                 \u001b[0;32mif\u001b[0m \u001b[0mis_integer\u001b[0m\u001b[0;34m(\u001b[0m\u001b[0mx\u001b[0m\u001b[0;34m)\u001b[0m \u001b[0;32mand\u001b[0m \u001b[0;32mnot\u001b[0m \u001b[0mdata\u001b[0m\u001b[0;34m.\u001b[0m\u001b[0mcolumns\u001b[0m\u001b[0;34m.\u001b[0m\u001b[0m_holds_integer\u001b[0m\u001b[0;34m(\u001b[0m\u001b[0;34m)\u001b[0m\u001b[0;34m:\u001b[0m\u001b[0;34m\u001b[0m\u001b[0;34m\u001b[0m\u001b[0m\n\u001b[1;32m    994\u001b[0m                     \u001b[0mx\u001b[0m \u001b[0;34m=\u001b[0m \u001b[0mdata_cols\u001b[0m\u001b[0;34m[\u001b[0m\u001b[0mx\u001b[0m\u001b[0;34m]\u001b[0m\u001b[0;34m\u001b[0m\u001b[0;34m\u001b[0m\u001b[0m\n\u001b[0;32m--> 995\u001b[0;31m                 \u001b[0;32melif\u001b[0m \u001b[0;32mnot\u001b[0m \u001b[0misinstance\u001b[0m\u001b[0;34m(\u001b[0m\u001b[0mdata\u001b[0m\u001b[0;34m[\u001b[0m\u001b[0mx\u001b[0m\u001b[0;34m]\u001b[0m\u001b[0;34m,\u001b[0m \u001b[0mABCSeries\u001b[0m\u001b[0;34m)\u001b[0m\u001b[0;34m:\u001b[0m\u001b[0;34m\u001b[0m\u001b[0;34m\u001b[0m\u001b[0m\n\u001b[0m\u001b[1;32m    996\u001b[0m                     \u001b[0;32mraise\u001b[0m \u001b[0mValueError\u001b[0m\u001b[0;34m(\u001b[0m\u001b[0;34m\"x must be a label or position\"\u001b[0m\u001b[0;34m)\u001b[0m\u001b[0;34m\u001b[0m\u001b[0;34m\u001b[0m\u001b[0m\n\u001b[1;32m    997\u001b[0m                 \u001b[0mdata\u001b[0m \u001b[0;34m=\u001b[0m \u001b[0mdata\u001b[0m\u001b[0;34m.\u001b[0m\u001b[0mset_index\u001b[0m\u001b[0;34m(\u001b[0m\u001b[0mx\u001b[0m\u001b[0;34m)\u001b[0m\u001b[0;34m\u001b[0m\u001b[0;34m\u001b[0m\u001b[0m\n",
            "\u001b[0;32m/usr/local/lib/python3.11/dist-packages/pandas/core/frame.py\u001b[0m in \u001b[0;36m__getitem__\u001b[0;34m(self, key)\u001b[0m\n\u001b[1;32m   4100\u001b[0m             \u001b[0;32mif\u001b[0m \u001b[0mself\u001b[0m\u001b[0;34m.\u001b[0m\u001b[0mcolumns\u001b[0m\u001b[0;34m.\u001b[0m\u001b[0mnlevels\u001b[0m \u001b[0;34m>\u001b[0m \u001b[0;36m1\u001b[0m\u001b[0;34m:\u001b[0m\u001b[0;34m\u001b[0m\u001b[0;34m\u001b[0m\u001b[0m\n\u001b[1;32m   4101\u001b[0m                 \u001b[0;32mreturn\u001b[0m \u001b[0mself\u001b[0m\u001b[0;34m.\u001b[0m\u001b[0m_getitem_multilevel\u001b[0m\u001b[0;34m(\u001b[0m\u001b[0mkey\u001b[0m\u001b[0;34m)\u001b[0m\u001b[0;34m\u001b[0m\u001b[0;34m\u001b[0m\u001b[0m\n\u001b[0;32m-> 4102\u001b[0;31m             \u001b[0mindexer\u001b[0m \u001b[0;34m=\u001b[0m \u001b[0mself\u001b[0m\u001b[0;34m.\u001b[0m\u001b[0mcolumns\u001b[0m\u001b[0;34m.\u001b[0m\u001b[0mget_loc\u001b[0m\u001b[0;34m(\u001b[0m\u001b[0mkey\u001b[0m\u001b[0;34m)\u001b[0m\u001b[0;34m\u001b[0m\u001b[0;34m\u001b[0m\u001b[0m\n\u001b[0m\u001b[1;32m   4103\u001b[0m             \u001b[0;32mif\u001b[0m \u001b[0mis_integer\u001b[0m\u001b[0;34m(\u001b[0m\u001b[0mindexer\u001b[0m\u001b[0;34m)\u001b[0m\u001b[0;34m:\u001b[0m\u001b[0;34m\u001b[0m\u001b[0;34m\u001b[0m\u001b[0m\n\u001b[1;32m   4104\u001b[0m                 \u001b[0mindexer\u001b[0m \u001b[0;34m=\u001b[0m \u001b[0;34m[\u001b[0m\u001b[0mindexer\u001b[0m\u001b[0;34m]\u001b[0m\u001b[0;34m\u001b[0m\u001b[0;34m\u001b[0m\u001b[0m\n",
            "\u001b[0;32m/usr/local/lib/python3.11/dist-packages/pandas/core/indexes/base.py\u001b[0m in \u001b[0;36mget_loc\u001b[0;34m(self, key)\u001b[0m\n\u001b[1;32m   3810\u001b[0m             ):\n\u001b[1;32m   3811\u001b[0m                 \u001b[0;32mraise\u001b[0m \u001b[0mInvalidIndexError\u001b[0m\u001b[0;34m(\u001b[0m\u001b[0mkey\u001b[0m\u001b[0;34m)\u001b[0m\u001b[0;34m\u001b[0m\u001b[0;34m\u001b[0m\u001b[0m\n\u001b[0;32m-> 3812\u001b[0;31m             \u001b[0;32mraise\u001b[0m \u001b[0mKeyError\u001b[0m\u001b[0;34m(\u001b[0m\u001b[0mkey\u001b[0m\u001b[0;34m)\u001b[0m \u001b[0;32mfrom\u001b[0m \u001b[0merr\u001b[0m\u001b[0;34m\u001b[0m\u001b[0;34m\u001b[0m\u001b[0m\n\u001b[0m\u001b[1;32m   3813\u001b[0m         \u001b[0;32mexcept\u001b[0m \u001b[0mTypeError\u001b[0m\u001b[0;34m:\u001b[0m\u001b[0;34m\u001b[0m\u001b[0;34m\u001b[0m\u001b[0m\n\u001b[1;32m   3814\u001b[0m             \u001b[0;31m# If we have a listlike key, _check_indexing_error will raise\u001b[0m\u001b[0;34m\u001b[0m\u001b[0;34m\u001b[0m\u001b[0m\n",
            "\u001b[0;31mKeyError\u001b[0m: 'Producto'"
          ]
        }
      ]
    },
    {
      "cell_type": "code",
      "source": [
        "#tienda con mayores ventas = tienda 1, tienda con menores ventas = tienda 3 (acorde al DF1)\n",
        "#tinda con peores ventas = tienda 2, tienda con mejores ventas = tienda 4 (acorde al DF2)"
      ],
      "metadata": {
        "id": "0Sw3sd4IZIGW"
      },
      "execution_count": null,
      "outputs": []
    },
    {
      "cell_type": "markdown",
      "source": [
        "# 5. Envío promedio por tienda"
      ],
      "metadata": {
        "id": "Fl0cGi3bZKqU"
      }
    },
    {
      "cell_type": "code",
      "source": [
        "\"\"\"En este paso, debes calcular el costo de envío promedio para cada tienda.\n",
        "El objetivo es comprender cuánto se gasta, en promedio, en el envío de cada tienda.\"\"\"\n",
        "\n",
        "import pandas as pd\n",
        "\n",
        "tienda  = pd.read_csv(url)\n",
        "tienda2 = pd.read_csv(url2)\n",
        "tienda3 = pd.read_csv(url3)\n",
        "tienda4 = pd.read_csv(url4)\n",
        "\n",
        "envio_tienda = tienda['Costo de envío'].mean()\n",
        "envio_tienda2 = tienda2['Costo de envío'].mean()\n",
        "envio_tienda3 = tienda3['Costo de envío'].mean()\n",
        "envio_tienda4 = tienda4['Costo de envío'].mean()\n",
        "\n",
        "# crear una lista de tuplas del valor promedio y su tienda asociada\n",
        "\n",
        "envios = [('Tienda 1', envio_tienda), ('Tienda 2', envio_tienda2), ('Tienda 3', envio_tienda3), ('Tienda 4', envio_tienda4)]\n",
        "\n",
        "# redondear y formatear los costos de envio a 2 decimales\n",
        "\n",
        "envios_formateados = [(tienda, round(envio, 2)) for tienda, envio in envios]\n",
        "\n",
        "# Crear un DataFrame a partir de la lista de tuplas\n",
        "df = pd.DataFrame(envios_formateados, columns=['Tienda', 'Costo de Envío Promedio'])\n",
        "\n",
        "#plotear los resultados del df\n",
        "\n",
        "df.plot(x='Tienda', y='Costo de Envío Promedio', kind= 'line')\n",
        "plt.show()\n",
        "df.plot(x='Tienda', y='Costo de Envío Promedio', kind= 'bar')\n",
        "plt.show()"
      ],
      "metadata": {
        "id": "S2JeaCykZNy9",
        "colab": {
          "base_uri": "https://localhost:8080/",
          "height": 927
        },
        "outputId": "f899ba68-f0ce-43fa-cfb8-4bfec463d021"
      },
      "execution_count": 114,
      "outputs": [
        {
          "output_type": "display_data",
          "data": {
            "text/plain": [
              "<Figure size 640x480 with 1 Axes>"
            ],
            "image/png": "[encoded data removed]"
          },
          "metadata": {}
        },
        {
          "output_type": "display_data",
          "data": {
            "text/plain": [
              "<Figure size 640x480 with 1 Axes>"
            ],
            "image/png": "[encoded data removed]"
          },
          "metadata": {}
        }
      ]
    },
    {
      "cell_type": "code",
      "source": [
        "print(df)"
      ],
      "metadata": {
        "id": "0tSdCie9ZQlt",
        "colab": {
          "base_uri": "https://localhost:8080/"
        },
        "outputId": "f8ac9f34-e10b-4d9b-9eef-5df2a63c4344"
      },
      "execution_count": 65,
      "outputs": [
        {
          "output_type": "stream",
          "name": "stdout",
          "text": [
            "     Tienda  Costo de Envío Promedio\n",
            "0  Tienda 1                 26018.61\n",
            "1  Tienda 2                 25216.24\n",
            "2  Tienda 3                 24805.68\n",
            "3  Tienda 4                 23459.46\n"
          ]
        }
      ]
    },
    {
      "cell_type": "code",
      "source": [],
      "metadata": {
        "id": "YYeVKTHV74O-"
      },
      "execution_count": null,
      "outputs": []
    },
    {
      "cell_type": "markdown",
      "source": [
        "# Analisis final de tiendas\n",
        "\n",
        "## Detalle del analisis efectuado:\n",
        "\n",
        "A pesar de tener una mayor numero de ingresos brutos la tienda numero 1 es la que cuenta con la peor evaluacion de clientes considerando sus promedios, asi mismo tiene el mayor costo por envio **(lo que se traduce en menores ingresos netos)**.\n"
      ],
      "metadata": {
        "id": "dhDdqV9KHS6D"
      }
    },
    {
      "cell_type": "code",
      "source": [],
      "metadata": {
        "id": "8FBuLSZVLvBe"
      },
      "execution_count": null,
      "outputs": []
    }
  ]
}